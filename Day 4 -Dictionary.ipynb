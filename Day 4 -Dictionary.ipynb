{
 "cells": [
  {
   "cell_type": "markdown",
   "id": "adb8412c-bf96-459f-9d0b-9f96e070c604",
   "metadata": {},
   "source": [
    "#### Creating a Dictionary"
   ]
  },
  {
   "cell_type": "markdown",
   "id": "6e1bc098-4913-40df-b03d-070c2d1fef76",
   "metadata": {},
   "source": [
    "##### a. Using Literals"
   ]
  },
  {
   "cell_type": "code",
   "execution_count": 1,
   "id": "3d46bf1b-83f1-4478-88ab-8a0700ddd92b",
   "metadata": {},
   "outputs": [
    {
     "data": {
      "text/plain": [
       "{'name': 'Tom', 'age': 34, 'marks': 89}"
      ]
     },
     "execution_count": 1,
     "metadata": {},
     "output_type": "execute_result"
    }
   ],
   "source": [
    "d={'name':'Tom',\n",
    "   'age':34,\n",
    "   'marks':89\n",
    "  }\n",
    "d"
   ]
  },
  {
   "cell_type": "code",
   "execution_count": 2,
   "id": "b0a90814-d095-4e6c-9211-e338aa2f0ef0",
   "metadata": {},
   "outputs": [
    {
     "data": {
      "text/plain": [
       "34"
      ]
     },
     "execution_count": 2,
     "metadata": {},
     "output_type": "execute_result"
    }
   ],
   "source": [
    "d['age']"
   ]
  },
  {
   "cell_type": "markdown",
   "id": "5aef292c-5fa0-436a-92db-35ed626576fd",
   "metadata": {},
   "source": [
    "##### b. Using Zip"
   ]
  },
  {
   "cell_type": "code",
   "execution_count": 3,
   "id": "e4f38ca9-5ee7-42e5-a2fb-6e00188a28bc",
   "metadata": {},
   "outputs": [],
   "source": [
    "keys=['a','b','c','d','e']\n",
    "values=(1,2,3,4,5,)"
   ]
  },
  {
   "cell_type": "code",
   "execution_count": 4,
   "id": "7e760846-fce8-40fc-b7b3-df35fa47c6e3",
   "metadata": {},
   "outputs": [
    {
     "name": "stdout",
     "output_type": "stream",
     "text": [
      "('a', 1)\n",
      "('b', 2)\n",
      "('c', 3)\n",
      "('d', 4)\n",
      "('e', 5)\n"
     ]
    }
   ],
   "source": [
    "for elem in zip(keys,values):\n",
    "    print(elem)"
   ]
  },
  {
   "cell_type": "code",
   "execution_count": 5,
   "id": "0be87109-ee92-4be3-994b-f10d24f97fe7",
   "metadata": {},
   "outputs": [
    {
     "data": {
      "text/plain": [
       "{'a': 1, 'b': 2, 'c': 3, 'd': 4, 'e': 5}"
      ]
     },
     "execution_count": 5,
     "metadata": {},
     "output_type": "execute_result"
    }
   ],
   "source": [
    "d=dict(zip(keys,values))\n",
    "d"
   ]
  },
  {
   "cell_type": "code",
   "execution_count": 6,
   "id": "98b216a6-1771-41e1-92ca-147767763109",
   "metadata": {},
   "outputs": [
    {
     "data": {
      "text/plain": [
       "{'a': 1, 'b': 2, 'c': 3, 'd': 4, 'e': 5}"
      ]
     },
     "execution_count": 6,
     "metadata": {},
     "output_type": "execute_result"
    }
   ],
   "source": [
    "d=dict(zip(keys,range(1,6)))\n",
    "d"
   ]
  },
  {
   "cell_type": "markdown",
   "id": "b50c1040-1e54-4a78-86ba-9e648cca8237",
   "metadata": {},
   "source": [
    "#### Accessing elements"
   ]
  },
  {
   "cell_type": "code",
   "execution_count": 7,
   "id": "ae1cbb74-1a6e-4dbc-b4ff-b36c0d2f7967",
   "metadata": {},
   "outputs": [],
   "source": [
    "keys=('Kerela','TN','Telangana','Karnataka')\n",
    "values=('Trivardrum','Chennai','Hyderabad','Bangalore')"
   ]
  },
  {
   "cell_type": "code",
   "execution_count": 8,
   "id": "342411de-4467-4215-a8b8-94ca94c83c5b",
   "metadata": {},
   "outputs": [
    {
     "data": {
      "text/plain": [
       "{'Kerela': 'Trivardrum',\n",
       " 'TN': 'Chennai',\n",
       " 'Telangana': 'Hyderabad',\n",
       " 'Karnataka': 'Bangalore'}"
      ]
     },
     "execution_count": 8,
     "metadata": {},
     "output_type": "execute_result"
    }
   ],
   "source": [
    "dstates=dict(zip(keys,values))\n",
    "dstates"
   ]
  },
  {
   "cell_type": "code",
   "execution_count": 9,
   "id": "47106054-bcf5-4a4e-a6a2-c7b8e2962ea5",
   "metadata": {},
   "outputs": [
    {
     "data": {
      "text/plain": [
       "'Trivardrum'"
      ]
     },
     "execution_count": 9,
     "metadata": {},
     "output_type": "execute_result"
    }
   ],
   "source": [
    "dstates['Kerela']"
   ]
  },
  {
   "cell_type": "code",
   "execution_count": 11,
   "id": "cda569d0-cdf6-482e-b5e6-f858a960c139",
   "metadata": {},
   "outputs": [
    {
     "ename": "KeyError",
     "evalue": "'AP'",
     "output_type": "error",
     "traceback": [
      "\u001b[1;31m---------------------------------------------------------------------------\u001b[0m",
      "\u001b[1;31mKeyError\u001b[0m                                  Traceback (most recent call last)",
      "Cell \u001b[1;32mIn[11], line 1\u001b[0m\n\u001b[1;32m----> 1\u001b[0m dstates[\u001b[38;5;124m'\u001b[39m\u001b[38;5;124mAP\u001b[39m\u001b[38;5;124m'\u001b[39m]\n",
      "\u001b[1;31mKeyError\u001b[0m: 'AP'"
     ]
    }
   ],
   "source": [
    "dstates['AP']"
   ]
  },
  {
   "cell_type": "code",
   "execution_count": 12,
   "id": "ffcf899a-0be6-4fd4-82b0-dfe231d194cd",
   "metadata": {},
   "outputs": [
    {
     "data": {
      "text/plain": [
       "'Bangalore'"
      ]
     },
     "execution_count": 12,
     "metadata": {},
     "output_type": "execute_result"
    }
   ],
   "source": [
    "dstates.get('Karnataka')"
   ]
  },
  {
   "cell_type": "code",
   "execution_count": 13,
   "id": "3dfd3304-f12c-462a-86d9-5f64644b03f5",
   "metadata": {},
   "outputs": [],
   "source": [
    "dstates.get('AP')"
   ]
  },
  {
   "cell_type": "code",
   "execution_count": 14,
   "id": "5caeba60-63aa-44d8-ba9d-78b0ed99234d",
   "metadata": {},
   "outputs": [
    {
     "name": "stdout",
     "output_type": "stream",
     "text": [
      "Not Found\n"
     ]
    }
   ],
   "source": [
    "if dstates.get('AP')== None:\n",
    "    print('Not Found')"
   ]
  },
  {
   "cell_type": "code",
   "execution_count": 15,
   "id": "e9796946-74b2-447f-96bb-c1db317b0408",
   "metadata": {},
   "outputs": [
    {
     "data": {
      "text/plain": [
       "('Trivardrum', 'Not Found')"
      ]
     },
     "execution_count": 15,
     "metadata": {},
     "output_type": "execute_result"
    }
   ],
   "source": [
    "dstates.get('Kerela','Not Found'),dstates.get('AP','Not Found')"
   ]
  },
  {
   "cell_type": "markdown",
   "id": "21aebc6f-2173-4837-80cf-b10b37a14088",
   "metadata": {},
   "source": [
    "#### Common Operations"
   ]
  },
  {
   "cell_type": "code",
   "execution_count": 16,
   "id": "d73c18ad-c58b-476b-80ef-088630637a28",
   "metadata": {},
   "outputs": [
    {
     "data": {
      "text/plain": [
       "4"
      ]
     },
     "execution_count": 16,
     "metadata": {},
     "output_type": "execute_result"
    }
   ],
   "source": [
    "# Lenght\n",
    "\n",
    "len(dstates)"
   ]
  },
  {
   "cell_type": "code",
   "execution_count": 17,
   "id": "4c46d959-b975-4435-967f-1c7d42643fa5",
   "metadata": {},
   "outputs": [
    {
     "data": {
      "text/plain": [
       "(True, False)"
      ]
     },
     "execution_count": 17,
     "metadata": {},
     "output_type": "execute_result"
    }
   ],
   "source": [
    "# Membership\n",
    "'Karnataka' in dstates,'AP' in dstates"
   ]
  },
  {
   "cell_type": "code",
   "execution_count": 18,
   "id": "0f998330-bca8-4028-8535-d5c69a3d033f",
   "metadata": {},
   "outputs": [
    {
     "data": {
      "text/plain": [
       "(False, True)"
      ]
     },
     "execution_count": 18,
     "metadata": {},
     "output_type": "execute_result"
    }
   ],
   "source": [
    "'Karnataka' not in dstates,'AP' not in dstates"
   ]
  },
  {
   "cell_type": "markdown",
   "id": "2e53168c-a4b4-4f93-8e5f-7dbf05db2374",
   "metadata": {},
   "source": [
    "#### Remove Element"
   ]
  },
  {
   "cell_type": "code",
   "execution_count": 19,
   "id": "9d622d7a-08bb-4632-b192-b7cd6dfba1fe",
   "metadata": {},
   "outputs": [
    {
     "data": {
      "text/plain": [
       "{10: None, 20: None, 30: None, 40: None, 50: None, 60: None, 70: None}"
      ]
     },
     "execution_count": 19,
     "metadata": {},
     "output_type": "execute_result"
    }
   ],
   "source": [
    "dfk=dict.fromkeys((10,20,30,40,50,60,70))\n",
    "dfk"
   ]
  },
  {
   "cell_type": "code",
   "execution_count": 20,
   "id": "7ead7317-13ee-443f-bdf8-900cebe6bf45",
   "metadata": {},
   "outputs": [],
   "source": [
    "del dfk[20]"
   ]
  },
  {
   "cell_type": "code",
   "execution_count": 21,
   "id": "f37eb86c-56eb-49d5-8dbd-56f38ed49264",
   "metadata": {},
   "outputs": [
    {
     "data": {
      "text/plain": [
       "{10: None, 30: None, 40: None, 50: None, 60: None, 70: None}"
      ]
     },
     "execution_count": 21,
     "metadata": {},
     "output_type": "execute_result"
    }
   ],
   "source": [
    "dfk"
   ]
  },
  {
   "cell_type": "code",
   "execution_count": 22,
   "id": "0c33b4dc-e676-45ba-a32c-cb61f6c07172",
   "metadata": {},
   "outputs": [
    {
     "ename": "KeyError",
     "evalue": "100",
     "output_type": "error",
     "traceback": [
      "\u001b[1;31m---------------------------------------------------------------------------\u001b[0m",
      "\u001b[1;31mKeyError\u001b[0m                                  Traceback (most recent call last)",
      "Cell \u001b[1;32mIn[22], line 1\u001b[0m\n\u001b[1;32m----> 1\u001b[0m \u001b[38;5;28;01mdel\u001b[39;00m dfk[\u001b[38;5;241m100\u001b[39m]\n\u001b[0;32m      2\u001b[0m dfk\n",
      "\u001b[1;31mKeyError\u001b[0m: 100"
     ]
    }
   ],
   "source": [
    "del dfk[100]\n",
    "dfk"
   ]
  },
  {
   "cell_type": "code",
   "execution_count": 23,
   "id": "8ca4e171-ee52-4c89-80e8-c8b561a5ed23",
   "metadata": {},
   "outputs": [
    {
     "data": {
      "text/plain": [
       "{10: None, 40: None, 50: None, 60: None, 70: None}"
      ]
     },
     "execution_count": 23,
     "metadata": {},
     "output_type": "execute_result"
    }
   ],
   "source": [
    "dfk.pop(30)\n",
    "dfk"
   ]
  },
  {
   "cell_type": "code",
   "execution_count": 24,
   "id": "110bc5eb-4d6f-4c77-b53e-c0ee39702b84",
   "metadata": {},
   "outputs": [
    {
     "data": {
      "text/plain": [
       "'Not Found'"
      ]
     },
     "execution_count": 24,
     "metadata": {},
     "output_type": "execute_result"
    }
   ],
   "source": [
    "dfk.pop(100,'Not Found')"
   ]
  },
  {
   "cell_type": "raw",
   "id": "26f10f5b-0df4-4624-9f15-ca33bbb46db7",
   "metadata": {},
   "source": []
  },
  {
   "cell_type": "code",
   "execution_count": 26,
   "id": "eaaa8387-8100-4f5f-9b7e-a7cc99fdcb97",
   "metadata": {},
   "outputs": [
    {
     "data": {
      "text/plain": [
       "{10: None, 40: None, 50: None, 60: None}"
      ]
     },
     "execution_count": 26,
     "metadata": {},
     "output_type": "execute_result"
    }
   ],
   "source": [
    "dfk.popitem()\n",
    "dfk"
   ]
  },
  {
   "cell_type": "code",
   "execution_count": 27,
   "id": "ce5d5d7a-bff5-4f39-bab2-f3e6764fe6c9",
   "metadata": {},
   "outputs": [
    {
     "data": {
      "text/plain": [
       "{}"
      ]
     },
     "execution_count": 27,
     "metadata": {},
     "output_type": "execute_result"
    }
   ],
   "source": [
    "dfk.clear()\n",
    "dfk"
   ]
  },
  {
   "cell_type": "markdown",
   "id": "bf4b044b-2dc7-4421-a796-384082397a79",
   "metadata": {},
   "source": [
    "#### Update Element"
   ]
  },
  {
   "cell_type": "code",
   "execution_count": 28,
   "id": "2b850ef5-cd95-4d51-9ed9-62b4c4d42886",
   "metadata": {},
   "outputs": [
    {
     "data": {
      "text/plain": [
       "{1: 'Mango', 2: 'Banana', 3: 'Kiwi'}"
      ]
     },
     "execution_count": 28,
     "metadata": {},
     "output_type": "execute_result"
    }
   ],
   "source": [
    "d={1:'Mango',2:'Banana',3:'Kiwi'}\n",
    "d"
   ]
  },
  {
   "cell_type": "code",
   "execution_count": 29,
   "id": "80eb9b14-a2d5-44f9-beed-c950f2256aef",
   "metadata": {},
   "outputs": [
    {
     "data": {
      "text/plain": [
       "{1: 'Mango', 2: 'Apple', 3: 'Kiwi'}"
      ]
     },
     "execution_count": 29,
     "metadata": {},
     "output_type": "execute_result"
    }
   ],
   "source": [
    "d[2]='Apple'\n",
    "d"
   ]
  },
  {
   "cell_type": "code",
   "execution_count": 30,
   "id": "0220d8a1-1974-4ead-88ac-7994945edce1",
   "metadata": {},
   "outputs": [
    {
     "data": {
      "text/plain": [
       "{2: 'Orange', 3: 'Cherry'}"
      ]
     },
     "execution_count": 30,
     "metadata": {},
     "output_type": "execute_result"
    }
   ],
   "source": [
    "d2={2:'Orange',3:'Cherry'}\n",
    "d2"
   ]
  },
  {
   "cell_type": "code",
   "execution_count": 31,
   "id": "35e39bb6-a307-4f99-bd52-5e4c9974d9b4",
   "metadata": {},
   "outputs": [],
   "source": [
    "d.update(d2)"
   ]
  },
  {
   "cell_type": "code",
   "execution_count": 32,
   "id": "5727bf40-c88b-4fbd-80cb-1749e2671089",
   "metadata": {},
   "outputs": [
    {
     "data": {
      "text/plain": [
       "{1: 'Mango', 2: 'Orange', 3: 'Cherry'}"
      ]
     },
     "execution_count": 32,
     "metadata": {},
     "output_type": "execute_result"
    }
   ],
   "source": [
    "d"
   ]
  },
  {
   "cell_type": "code",
   "execution_count": 43,
   "id": "5b12f890-3178-4c63-bdcc-93adc5e6005d",
   "metadata": {},
   "outputs": [
    {
     "data": {
      "text/plain": [
       "{}"
      ]
     },
     "execution_count": 43,
     "metadata": {},
     "output_type": "execute_result"
    }
   ],
   "source": [
    "d1.clear()\n",
    "d1"
   ]
  },
  {
   "cell_type": "markdown",
   "id": "69212d8b-b770-44ed-8f7c-87ba3243a0cb",
   "metadata": {},
   "source": [
    "#### Copy Operation"
   ]
  },
  {
   "cell_type": "code",
   "execution_count": 51,
   "id": "d4d375e1-0c04-4b00-a7bd-da9f3f83a8a0",
   "metadata": {},
   "outputs": [],
   "source": [
    "d3={1:'One',2:'Two'}\n",
    "d4=d3"
   ]
  },
  {
   "cell_type": "code",
   "execution_count": 52,
   "id": "4709009d-f55f-4389-90da-2b3204ce0c86",
   "metadata": {},
   "outputs": [
    {
     "data": {
      "text/plain": [
       "{1: 'One', 2: 'Two'}"
      ]
     },
     "execution_count": 52,
     "metadata": {},
     "output_type": "execute_result"
    }
   ],
   "source": [
    "d4"
   ]
  },
  {
   "cell_type": "code",
   "execution_count": 53,
   "id": "4506ffca-3281-48e2-8e14-a5469f52ca20",
   "metadata": {},
   "outputs": [
    {
     "data": {
      "text/plain": [
       "{1: 'Eins', 2: 'Two'}"
      ]
     },
     "execution_count": 53,
     "metadata": {},
     "output_type": "execute_result"
    }
   ],
   "source": [
    "d3[1]='Eins'\n",
    "d3"
   ]
  },
  {
   "cell_type": "code",
   "execution_count": 54,
   "id": "51d4a537-afd7-4528-9cf9-fa10ffd363de",
   "metadata": {},
   "outputs": [
    {
     "data": {
      "text/plain": [
       "{1: 'Eins', 2: 'Two'}"
      ]
     },
     "execution_count": 54,
     "metadata": {},
     "output_type": "execute_result"
    }
   ],
   "source": [
    "d4"
   ]
  },
  {
   "cell_type": "code",
   "execution_count": 55,
   "id": "6f96214b-5741-47e1-9cd4-742e5388c038",
   "metadata": {},
   "outputs": [
    {
     "data": {
      "text/plain": [
       "{1: 'Eins', 2: 'Two'}"
      ]
     },
     "execution_count": 55,
     "metadata": {},
     "output_type": "execute_result"
    }
   ],
   "source": [
    "d3"
   ]
  },
  {
   "cell_type": "code",
   "execution_count": 56,
   "id": "9f10ac82-5b77-498d-a2bb-ff6d9d77ca6c",
   "metadata": {},
   "outputs": [],
   "source": [
    "d3={1:'Un',2:'Deux'}\n",
    "d4=d3.copy()"
   ]
  },
  {
   "cell_type": "code",
   "execution_count": 57,
   "id": "bbc8a16c-75b5-4637-9c7b-c34e0418daa7",
   "metadata": {},
   "outputs": [
    {
     "data": {
      "text/plain": [
       "{1: 'Un', 2: 'Deux'}"
      ]
     },
     "execution_count": 57,
     "metadata": {},
     "output_type": "execute_result"
    }
   ],
   "source": [
    "d4"
   ]
  },
  {
   "cell_type": "code",
   "execution_count": 58,
   "id": "76a7e4fd-f55b-41c2-9859-be816b2dfd27",
   "metadata": {},
   "outputs": [
    {
     "data": {
      "text/plain": [
       "{1: 'Un', 2: 'Zwei'}"
      ]
     },
     "execution_count": 58,
     "metadata": {},
     "output_type": "execute_result"
    }
   ],
   "source": [
    "d3[2]='Zwei'\n",
    "d3"
   ]
  },
  {
   "cell_type": "code",
   "execution_count": 59,
   "id": "9a22d46f-d741-4656-9623-a90e13c3be29",
   "metadata": {},
   "outputs": [
    {
     "data": {
      "text/plain": [
       "{1: 'Un', 2: 'Deux'}"
      ]
     },
     "execution_count": 59,
     "metadata": {},
     "output_type": "execute_result"
    }
   ],
   "source": [
    "d4"
   ]
  },
  {
   "cell_type": "markdown",
   "id": "a7712f6c-e1ae-4246-9473-77e9ff61821f",
   "metadata": {},
   "source": []
  },
  {
   "cell_type": "code",
   "execution_count": null,
   "id": "ff72a047-60eb-45bb-85f8-9c3a5671db81",
   "metadata": {},
   "outputs": [],
   "source": []
  }
 ],
 "metadata": {
  "kernelspec": {
   "display_name": "Python 3 (ipykernel)",
   "language": "python",
   "name": "python3"
  },
  "language_info": {
   "codemirror_mode": {
    "name": "ipython",
    "version": 3
   },
   "file_extension": ".py",
   "mimetype": "text/x-python",
   "name": "python",
   "nbconvert_exporter": "python",
   "pygments_lexer": "ipython3",
   "version": "3.11.7"
  }
 },
 "nbformat": 4,
 "nbformat_minor": 5
}
